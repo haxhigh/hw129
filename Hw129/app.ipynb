{
 "cells": [
  {
   "cell_type": "code",
   "execution_count": null,
   "metadata": {},
   "outputs": [],
   "source": [
    "import pandas as pd\n",
    "import csv\n",
    "\n",
    "bd = []\n",
    "bs = []\n",
    "bd = pd.read_csv(\"brownDwarfs.csv\") \n",
    "bd = bd.dropna()\n",
    "\n",
    "bs = pd.read_csv(\"bright_stars.csv\") \n",
    "bs = bs.dropna()\n",
    "\n",
    "headersBD = bd.head()\n",
    "headersBS = bs.head()\n",
    "headers = headersBD + headersBS\n",
    "\n",
    "radius = bd[\"radius\"]\n",
    "new_radius = []\n",
    "for i in radius:\n",
    "    i = i * 0.102763\n",
    "    new_radius.append(i)\n",
    "\n",
    "print(new_radius)\n",
    "\n",
    "mass = bd[\"mass\"]\n",
    "new_mass = []\n",
    "for i in mass:\n",
    "    i = i * 0.000954588\n",
    "    new_mass.append(i)\n",
    "new_Data = [new_radius] + [new_mass]\n",
    "print(new_Data)\n",
    "df = pd.DataFrame(list(zip(new_mass,new_radius)),columns=[\"Mass\",\"Radius\"])\n",
    "df.to_csv(\"solar_mass_radius.csv\")"
   ]
  },
  {
   "cell_type": "code",
   "execution_count": null,
   "metadata": {},
   "outputs": [],
   "source": [
    "merged_df = pd.merge(bs,bd,how=\"right\")\n",
    "print(len(merged_df))\n",
    "merged_dfFile = pd.DataFrame(merged_df)\n",
    "merged_dfFile.to_csv(\"Merged_Planets_dwarfs.csv\")\n",
    "merged_df"
   ]
  }
 ],
 "metadata": {
  "kernelspec": {
   "display_name": "Python 3",
   "language": "python",
   "name": "python3"
  },
  "language_info": {
   "codemirror_mode": {
    "name": "ipython",
    "version": 3
   },
   "file_extension": ".py",
   "mimetype": "text/x-python",
   "name": "python",
   "nbconvert_exporter": "python",
   "pygments_lexer": "ipython3",
   "version": "3.10.11"
  },
  "orig_nbformat": 4
 },
 "nbformat": 4,
 "nbformat_minor": 2
}
